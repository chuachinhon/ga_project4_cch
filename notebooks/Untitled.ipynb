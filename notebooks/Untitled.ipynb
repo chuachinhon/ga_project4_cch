{
 "cells": [
  {
   "cell_type": "code",
   "execution_count": null,
   "metadata": {},
   "outputs": [],
   "source": []
  },
  {
   "cell_type": "code",
   "execution_count": null,
   "metadata": {},
   "outputs": [],
   "source": []
  },
  {
   "cell_type": "code",
   "execution_count": null,
   "metadata": {},
   "outputs": [],
   "source": [
    "\"\"\"\n",
    "jobs['Company'] = jobs['Company'].str.replace('(CO.)', '')\n",
    "jobs['Company'] = jobs['Company'].str.replace('(N.A.)', '')\n",
    "jobs['Company'] = jobs['Company'].str.replace('(LTD)', '')\n",
    "jobs['Company'] = jobs['Company'].str.replace('(PTE)', '')\n",
    "\n",
    "\"\"\"\n",
    "plt.figure(figsize=(16,10))\n",
    "jobs['Salary_Min'].plot.bar()\n",
    "plt.show()\n",
    "\n",
    "plt.figure(figsize=(16,10))\n",
    "jobs['Salary_Max'].plot.bar()\n",
    "plt.show()\n",
    "\"\"\"\n",
    "\n",
    "\"\""
   ]
  },
  {
   "cell_type": "code",
   "execution_count": null,
   "metadata": {},
   "outputs": [],
   "source": [
    "'Human Resource & Administrative Officer', 'HR cum Admin Assistant [ Kallang Area, 5 Days, 1 Year Exp As HR]'\n",
    "- 'Restaurant Manager'\n",
    "-  \n",
    "'Ethics Manager' 'HR Practitioner', 'Account Manager'\n",
    "'IT Audit Manager  /  $7000 Basic + 2VB  /  CBD  /  Immediate !!!',\n",
    "       'Industry Development Manager, I2R / A*STAR',\n",
    "       'Software Development Consultant',\n",
    "       'Faculty Positions in Construction Automation - Civil Engineering',\n",
    "       'Senior Manager, Postgraduate Career Services (3-year contract), LKCSB',\n",
    "         'Environmental Manager  /  Assistant' 'Space Planner', 'Events Sales Manager'\n",
    "            'Finance and Admin Executive'\n",
    "            'Sales Executive'\n",
    "            'Admin Assistant, Research Department (6 months contract)'\n",
    "            'Web Application Developer'\n",
    "            'Data Entry cum Admin Assistant'\n",
    "            'Sales Development Representative (Japanese)',\n",
    "       'Sales Development Representative (Korean)'\n",
    "            'Senior Java Developer',  'Java Robotics Developer'\n",
    "        'Vice President, Window Security Administrator', 'Financial Controller, South East Asia',\n",
    "        \n",
    "        'IT Executive [$4.3k-$4.5k  /  Pioneer  /  SAP Business One  /  Networking  /  Hardware  /  5 days  /  Immediate]',\n",
    "            "
   ]
  },
  {
   "cell_type": "code",
   "execution_count": null,
   "metadata": {},
   "outputs": [],
   "source": []
  },
  {
   "cell_type": "code",
   "execution_count": null,
   "metadata": {},
   "outputs": [],
   "source": []
  }
 ],
 "metadata": {
  "kernelspec": {
   "display_name": "Python 3",
   "language": "python",
   "name": "python3"
  },
  "language_info": {
   "codemirror_mode": {
    "name": "ipython",
    "version": 3
   },
   "file_extension": ".py",
   "mimetype": "text/x-python",
   "name": "python",
   "nbconvert_exporter": "python",
   "pygments_lexer": "ipython3",
   "version": "3.6.8"
  }
 },
 "nbformat": 4,
 "nbformat_minor": 2
}
