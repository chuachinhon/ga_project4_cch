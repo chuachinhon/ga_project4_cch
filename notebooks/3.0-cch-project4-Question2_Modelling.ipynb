{
 "cells": [
  {
   "cell_type": "markdown",
   "metadata": {},
   "source": [
    "<img src=\"http://imgur.com/1ZcRyrc.png\" style=\"float: left; margin: 15px; height: 80px\">\n",
    "\n",
    "# Project 4: Web Scraping Job Postings"
   ]
  },
  {
   "cell_type": "markdown",
   "metadata": {},
   "source": [
    "Detailed instructions are in Readme.md \n",
    "My answers for this Project are split into several notebooks to make it easier to review key sections and make changes where needed. In 3.0, I work on building the models to answer Question 2."
   ]
  },
  {
   "cell_type": "markdown",
   "metadata": {},
   "source": [
    "## QUESTION 2: PREDICTING JOB SENIORITY LEVELS\n",
    "This vague question was originally cast as finding \"factors that distinguish job category\".\n",
    "\n",
    "For clarity, I'll frame it as one of predicting the seniority of a job being offered. Instead of using the four predictors used to forecast salary, this time I'll use a combined version of job responsibilities and job requirements columns to build a multi-class classifier. This make sense as both job responsibilities and job requirements in these postings address the needs of the employer, and should, in theory, give us a good sense of the seniority of the jobs involved.\n",
    "\n",
    "There were originally 9 sub-categories for the seniority levels in my dataset. But they can be easily regrouped into three new categories for the multi-class prediction (also because I don't have enough data points to build a 9-class classifier). These are my new sub-categories for seniority levels:\n",
    "- Senior level: Senior Executive, Senior Management\n",
    "- Junior Level: Entry Level, Non-executive, Junior Executive\n",
    "- Mid Level: Manager, Executive, Professional, Middle Management\n",
    "\n",
    "This is a somewhat tricky multi-class problem since the majority class would be the middle management folks, who make up about 74% of the dataset. Senior management roles account for 15% of the roles on offer, while junior roles make up for about 11% of the roles in the jobs postings.\n",
    "\n",
    "There's no specific request to predict only for senior roles, so I won't temper with the class weightage in this question in order to detect the minority classes. \n",
    "\n",
    "The goal here would be to find a model with the best [AUC score](https://developers.google.com/machine-learning/crash-course/classification/roc-and-auc). "
   ]
  },
  {
   "cell_type": "code",
   "execution_count": 2,
   "metadata": {},
   "outputs": [],
   "source": [
    "import matplotlib as mpl\n",
    "import matplotlib.pyplot as plt\n",
    "import numpy as np\n",
    "import pandas as pd\n",
    "import re\n",
    "import seaborn as sns\n",
    "import scipy as sp\n",
    "import scipy.stats as stats\n",
    "\n",
    "from io import StringIO\n",
    "from sklearn import metrics\n",
    "from sklearn.dummy import DummyClassifier\n",
    "from sklearn.ensemble import RandomForestClassifier, GradientBoostingClassifier \n",
    "from sklearn.feature_extraction.text import CountVectorizer, TfidfVectorizer, TfidfTransformer\n",
    "from sklearn.feature_selection import chi2\n",
    "from sklearn.linear_model import LogisticRegression\n",
    "from sklearn.metrics import classification_report, precision_recall_fscore_support, roc_curve, auc, accuracy_score, confusion_matrix, f1_score, mean_squared_error, precision_score, recall_score\n",
    "from sklearn.model_selection import cross_val_score, GridSearchCV, train_test_split\n",
    "from sklearn.multiclass import OneVsRestClassifier\n",
    "from sklearn.naive_bayes import MultinomialNB\n",
    "from sklearn.pipeline import Pipeline\n",
    "from sklearn.preprocessing import LabelBinarizer\n",
    "from xgboost import XGBClassifier\n",
    "\n",
    "mpl.rcParams[\"figure.dpi\"] = 300\n",
    "%matplotlib inline\n",
    "%config InlineBackend.figure_format ='retina'"
   ]
  },
  {
   "cell_type": "markdown",
   "metadata": {},
   "source": [
    "### 1.1 DATA PREPROCESSING"
   ]
  },
  {
   "cell_type": "code",
   "execution_count": 3,
   "metadata": {},
   "outputs": [],
   "source": [
    "jobs = pd.read_csv('../data/jobs_clean.csv')"
   ]
  },
  {
   "cell_type": "code",
   "execution_count": 4,
   "metadata": {},
   "outputs": [],
   "source": [
    "# RE-MAPPING the target column to three levels: senior, middle and junior\n",
    "jobs[\"Seniority_Level\"] = jobs[\"Seniority\"].map(\n",
    "    {\n",
    "        \"Senior Executive\": \"Senior_Level\",\n",
    "        \"Senior Management\": \"Senior_Level\",\n",
    "        \"Manager\": \"Mid_Level\",\n",
    "        \"Executive\": \"Mid_Level\",\n",
    "        \"Professional\": \"Mid_Level\",\n",
    "        \"Middle Management\": \"Mid_Level\",\n",
    "        \"Entry Level\": \"Junior_Level\",\n",
    "        \"Non-executive\": \"Junior_Level\",\n",
    "        \"Junior Executive\": \"Junior_Level\",\n",
    "    }\n",
    ")"
   ]
  },
  {
   "cell_type": "code",
   "execution_count": 5,
   "metadata": {},
   "outputs": [],
   "source": [
    "# The jobs description and responsibilities columns are similar in many aspects and it makes sense to\n",
    "#merge them in this context as a single predictor\n",
    "jobs['Describe'] = jobs[['Responsibilities', 'Requirements']].apply(lambda x: ''.join(x), axis=1)"
   ]
  },
  {
   "cell_type": "code",
   "execution_count": 6,
   "metadata": {},
   "outputs": [
    {
     "data": {
      "text/html": [
       "<div>\n",
       "<style scoped>\n",
       "    .dataframe tbody tr th:only-of-type {\n",
       "        vertical-align: middle;\n",
       "    }\n",
       "\n",
       "    .dataframe tbody tr th {\n",
       "        vertical-align: top;\n",
       "    }\n",
       "\n",
       "    .dataframe thead th {\n",
       "        text-align: right;\n",
       "    }\n",
       "</style>\n",
       "<table border=\"1\" class=\"dataframe\">\n",
       "  <thead>\n",
       "    <tr style=\"text-align: right;\">\n",
       "      <th></th>\n",
       "      <th>Company</th>\n",
       "      <th>Title</th>\n",
       "      <th>Responsibilities</th>\n",
       "      <th>Requirements</th>\n",
       "      <th>Seniority</th>\n",
       "      <th>Employment_Type</th>\n",
       "      <th>Category</th>\n",
       "      <th>Address</th>\n",
       "      <th>Salary_Min</th>\n",
       "      <th>Salary_Max</th>\n",
       "      <th>Salary_Average</th>\n",
       "      <th>Seniority_Level</th>\n",
       "      <th>Describe</th>\n",
       "    </tr>\n",
       "  </thead>\n",
       "  <tbody>\n",
       "    <tr>\n",
       "      <th>184</th>\n",
       "      <td>Unilite Recruitment Services</td>\n",
       "      <td>Data Management Analyst-Operations (Financial ...</td>\n",
       "      <td>Part of Operations Data Management team which...</td>\n",
       "      <td>DiplomaDegree in Finance Engineering or Compu...</td>\n",
       "      <td>Executive</td>\n",
       "      <td>Permanent</td>\n",
       "      <td>Accounting  Auditing  Taxation Banking and Fin...</td>\n",
       "      <td>Suntec Tower Two 9 Temasek Boulevard 038989</td>\n",
       "      <td>5000.0</td>\n",
       "      <td>8000.0</td>\n",
       "      <td>6750.0</td>\n",
       "      <td>Mid_Level</td>\n",
       "      <td>Part of Operations Data Management team which...</td>\n",
       "    </tr>\n",
       "    <tr>\n",
       "      <th>725</th>\n",
       "      <td>Anotech Energy Singapore</td>\n",
       "      <td>Big Data Developer</td>\n",
       "      <td>An exciting opportunity with one of our client...</td>\n",
       "      <td>Profile  At least 5 years in JavaJ2EE devel...</td>\n",
       "      <td>Executive</td>\n",
       "      <td>Contract</td>\n",
       "      <td>Information Technology</td>\n",
       "      <td>Robinson 77 77 Robinson Road 068896</td>\n",
       "      <td>2000.0</td>\n",
       "      <td>7500.0</td>\n",
       "      <td>4750.0</td>\n",
       "      <td>Mid_Level</td>\n",
       "      <td>An exciting opportunity with one of our client...</td>\n",
       "    </tr>\n",
       "    <tr>\n",
       "      <th>168</th>\n",
       "      <td>Gfin Services (S)</td>\n",
       "      <td>Product Manager</td>\n",
       "      <td>Get to know our Team  Product Managers at Grab...</td>\n",
       "      <td>The must haves  Product management experience ...</td>\n",
       "      <td>Professional</td>\n",
       "      <td>Permanent</td>\n",
       "      <td>Banking and Finance Information Technology</td>\n",
       "      <td>6 Battery Road 049909</td>\n",
       "      <td>5500.0</td>\n",
       "      <td>9000.0</td>\n",
       "      <td>7250.0</td>\n",
       "      <td>Mid_Level</td>\n",
       "      <td>Get to know our Team  Product Managers at Grab...</td>\n",
       "    </tr>\n",
       "    <tr>\n",
       "      <th>611</th>\n",
       "      <td>Apl Co.</td>\n",
       "      <td>Specialist, Ssc Process &amp; Projects</td>\n",
       "      <td>Brief Description This position reports to the...</td>\n",
       "      <td>Education Tertiary Education Experience  Min 3...</td>\n",
       "      <td>Manager</td>\n",
       "      <td>Permanent</td>\n",
       "      <td>Consulting  Customer Service Information Techn...</td>\n",
       "      <td>The Metropolis 9 North Buona Vista Drive 138588</td>\n",
       "      <td>3800.0</td>\n",
       "      <td>5700.0</td>\n",
       "      <td>4750.0</td>\n",
       "      <td>Mid_Level</td>\n",
       "      <td>Brief Description This position reports to the...</td>\n",
       "    </tr>\n",
       "    <tr>\n",
       "      <th>566</th>\n",
       "      <td>Machspeed Human Resources</td>\n",
       "      <td>Pre-Sales Consultant - Big Data (5 Days, Orcha...</td>\n",
       "      <td>Presales Consultant  Big Data 5 days Orchard 5...</td>\n",
       "      <td>Minimum DegreeDiploma in Computer Science En...</td>\n",
       "      <td>Professional</td>\n",
       "      <td>Permanent</td>\n",
       "      <td>Information Technology</td>\n",
       "      <td>Golden Wall Centre 89 Short Street 188216</td>\n",
       "      <td>4000.0</td>\n",
       "      <td>5000.0</td>\n",
       "      <td>4500.0</td>\n",
       "      <td>Mid_Level</td>\n",
       "      <td>Presales Consultant  Big Data 5 days Orchard 5...</td>\n",
       "    </tr>\n",
       "  </tbody>\n",
       "</table>\n",
       "</div>"
      ],
      "text/plain": [
       "                           Company  \\\n",
       "184  Unilite Recruitment Services    \n",
       "725      Anotech Energy Singapore    \n",
       "168             Gfin Services (S)    \n",
       "611                       Apl Co.    \n",
       "566     Machspeed Human Resources    \n",
       "\n",
       "                                                 Title  \\\n",
       "184  Data Management Analyst-Operations (Financial ...   \n",
       "725                                 Big Data Developer   \n",
       "168                                    Product Manager   \n",
       "611                 Specialist, Ssc Process & Projects   \n",
       "566  Pre-Sales Consultant - Big Data (5 Days, Orcha...   \n",
       "\n",
       "                                      Responsibilities  \\\n",
       "184   Part of Operations Data Management team which...   \n",
       "725  An exciting opportunity with one of our client...   \n",
       "168  Get to know our Team  Product Managers at Grab...   \n",
       "611  Brief Description This position reports to the...   \n",
       "566  Presales Consultant  Big Data 5 days Orchard 5...   \n",
       "\n",
       "                                          Requirements     Seniority  \\\n",
       "184   DiplomaDegree in Finance Engineering or Compu...     Executive   \n",
       "725     Profile  At least 5 years in JavaJ2EE devel...     Executive   \n",
       "168  The must haves  Product management experience ...  Professional   \n",
       "611  Education Tertiary Education Experience  Min 3...       Manager   \n",
       "566    Minimum DegreeDiploma in Computer Science En...  Professional   \n",
       "\n",
       "    Employment_Type                                           Category  \\\n",
       "184       Permanent  Accounting  Auditing  Taxation Banking and Fin...   \n",
       "725        Contract                             Information Technology   \n",
       "168       Permanent         Banking and Finance Information Technology   \n",
       "611       Permanent  Consulting  Customer Service Information Techn...   \n",
       "566       Permanent                             Information Technology   \n",
       "\n",
       "                                             Address  Salary_Min  Salary_Max  \\\n",
       "184      Suntec Tower Two 9 Temasek Boulevard 038989      5000.0      8000.0   \n",
       "725              Robinson 77 77 Robinson Road 068896      2000.0      7500.0   \n",
       "168                            6 Battery Road 049909      5500.0      9000.0   \n",
       "611  The Metropolis 9 North Buona Vista Drive 138588      3800.0      5700.0   \n",
       "566        Golden Wall Centre 89 Short Street 188216      4000.0      5000.0   \n",
       "\n",
       "     Salary_Average Seniority_Level  \\\n",
       "184          6750.0       Mid_Level   \n",
       "725          4750.0       Mid_Level   \n",
       "168          7250.0       Mid_Level   \n",
       "611          4750.0       Mid_Level   \n",
       "566          4500.0       Mid_Level   \n",
       "\n",
       "                                              Describe  \n",
       "184   Part of Operations Data Management team which...  \n",
       "725  An exciting opportunity with one of our client...  \n",
       "168  Get to know our Team  Product Managers at Grab...  \n",
       "611  Brief Description This position reports to the...  \n",
       "566  Presales Consultant  Big Data 5 days Orchard 5...  "
      ]
     },
     "execution_count": 6,
     "metadata": {},
     "output_type": "execute_result"
    }
   ],
   "source": [
    "jobs.sample(5)"
   ]
  },
  {
   "cell_type": "code",
   "execution_count": 7,
   "metadata": {},
   "outputs": [],
   "source": [
    "df = jobs[['Seniority_Level', 'Describe']]"
   ]
  },
  {
   "cell_type": "code",
   "execution_count": 8,
   "metadata": {},
   "outputs": [
    {
     "data": {
      "text/plain": [
       "Mid_Level       599\n",
       "Senior_Level    123\n",
       "Junior_Level     90\n",
       "Name: Seniority_Level, dtype: int64"
      ]
     },
     "execution_count": 8,
     "metadata": {},
     "output_type": "execute_result"
    }
   ],
   "source": [
    "df['Seniority_Level'].value_counts()"
   ]
  },
  {
   "cell_type": "code",
   "execution_count": 9,
   "metadata": {},
   "outputs": [
    {
     "data": {
      "image/png": "[encoded data removed]",
      "text/plain": [
       "<Figure size 1152x720 with 1 Axes>"
      ]
     },
     "metadata": {
      "image/png": {
       "height": 669,
       "width": 954
      },
      "needs_background": "light"
     },
     "output_type": "display_data"
    }
   ],
   "source": [
    "plt.figure(figsize=(16,10))\n",
    "df['Seniority_Level'].value_counts().plot.bar()\n",
    "plt.title('Chart 16: Distribution of seniority in data job postings', fontsize=20)\n",
    "plt.xlabel(\"Seniority of job postings\", fontsize=16)\n",
    "plt.ylabel(\"Frequency\", fontsize=16)\n",
    "plt.show()"
   ]
  },
  {
   "cell_type": "code",
   "execution_count": 10,
   "metadata": {},
   "outputs": [
    {
     "data": {
      "image/png": "[encoded data removed]",
      "text/plain": [
       "<Figure size 1152x720 with 1 Axes>"
      ]
     },
     "metadata": {
      "image/png": {
       "height": 610,
       "width": 993
      },
      "needs_background": "light"
     },
     "output_type": "display_data"
    }
   ],
   "source": [
    "plt.figure(figsize=(16,10))\n",
    "sns.boxplot(x=\"Salary_Average\", y=\"Seniority_Level\", data=jobs)\n",
    "plt.title('Chart 17: Distribution of average salary by seniority levels', fontsize=20)\n",
    "plt.show()"
   ]
  },
  {
   "cell_type": "markdown",
   "metadata": {},
   "source": [
    "### 1.2 SPLITTING THE DATA"
   ]
  },
  {
   "cell_type": "code",
   "execution_count": 11,
   "metadata": {},
   "outputs": [],
   "source": [
    "categories = [\"Junior_Level\", \"Mid_Level\", \"Senior_Level\"]"
   ]
  },
  {
   "cell_type": "code",
   "execution_count": 12,
   "metadata": {},
   "outputs": [],
   "source": [
    "X = df['Describe']\n",
    "y = df['Seniority_Level']"
   ]
  },
  {
   "cell_type": "code",
   "execution_count": 13,
   "metadata": {},
   "outputs": [],
   "source": [
    "X_train, X_test, y_train, y_test = train_test_split(X, y, random_state=42, test_size=0.25, shuffle=True)"
   ]
  },
  {
   "cell_type": "code",
   "execution_count": 14,
   "metadata": {},
   "outputs": [
    {
     "name": "stdout",
     "output_type": "stream",
     "text": [
      "(609,)\n",
      "(203,)\n"
     ]
    }
   ],
   "source": [
    "print(X_train.shape)\n",
    "print(X_test.shape)"
   ]
  },
  {
   "cell_type": "code",
   "execution_count": 15,
   "metadata": {},
   "outputs": [
    {
     "name": "stdout",
     "output_type": "stream",
     "text": [
      "(609,)\n",
      "(203,)\n"
     ]
    }
   ],
   "source": [
    "print(y_train.shape)\n",
    "print(y_test.shape)"
   ]
  },
  {
   "cell_type": "markdown",
   "metadata": {},
   "source": [
    "### 1.3 BUILDING BASELINE PERFORMANCE VIA DUMMY CLASSIFIER"
   ]
  },
  {
   "cell_type": "code",
   "execution_count": 16,
   "metadata": {},
   "outputs": [],
   "source": [
    "dummy = DummyClassifier(strategy='stratified', random_state=42)"
   ]
  },
  {
   "cell_type": "code",
   "execution_count": 17,
   "metadata": {},
   "outputs": [],
   "source": [
    "dummy.fit(X_train, y_train)\n",
    "dummy_pred = dummy.predict(X_test)"
   ]
  },
  {
   "cell_type": "code",
   "execution_count": 18,
   "metadata": {},
   "outputs": [
    {
     "name": "stdout",
     "output_type": "stream",
     "text": [
      "Accuracy Score: 0.6305418719211823\n"
     ]
    }
   ],
   "source": [
    "print(\"Accuracy Score:\", accuracy_score(y_test, dummy_pred))"
   ]
  },
  {
   "cell_type": "markdown",
   "metadata": {},
   "source": [
    "### 1.4 SETTING A FUNCTION FOR SCORING THE MODELS\n",
    "I'll try a variety of models to find out what works best. But since this is a multi-class classifier, we'll need a separate function to evaluate the models' metrics, particularly on the AUC score. The accuracy score won't suffice in this case since the models could just predict most of the \"Mid_Level\" class and achieve a high accuracy score while not picking up the senior or junior roles. The Precision, Recall and AUC scores would give us a better sense of which is the best model.\n",
    "\n",
    "Code source for classification report: https://stackoverflow.com/questions/39685740/calculate-sklearn-roc-auc-score-for-multi-class/50417060#50417060"
   ]
  },
  {
   "cell_type": "code",
   "execution_count": 19,
   "metadata": {},
   "outputs": [],
   "source": [
    "def class_report(y_true, y_pred, y_score=None, average='micro'):\n",
    "    if y_true.shape != y_pred.shape:\n",
    "        print(\"Error! y_true %s is not the same shape as y_pred %s\" % (\n",
    "              y_true.shape,\n",
    "              y_pred.shape)\n",
    "        )\n",
    "        return\n",
    "\n",
    "    lb = LabelBinarizer()\n",
    "\n",
    "    if len(y_true.shape) == 1:\n",
    "        lb.fit(y_true)\n",
    "\n",
    "    #Value counts of predictions\n",
    "    labels, cnt = np.unique(\n",
    "        y_pred,\n",
    "        return_counts=True)\n",
    "    n_classes = len(labels)\n",
    "    pred_cnt = pd.Series(cnt, index=labels)\n",
    "\n",
    "    metrics_summary = precision_recall_fscore_support(\n",
    "            y_true=y_true,\n",
    "            y_pred=y_pred,\n",
    "            labels=labels)\n",
    "\n",
    "    avg = list(precision_recall_fscore_support(\n",
    "            y_true=y_true, \n",
    "            y_pred=y_pred,\n",
    "            average='weighted'))\n",
    "\n",
    "    metrics_sum_index = ['precision', 'recall', 'f1-score', 'support']\n",
    "    class_report_df = pd.DataFrame(\n",
    "        list(metrics_summary),\n",
    "        index=metrics_sum_index,\n",
    "        columns=labels)\n",
    "\n",
    "    support = class_report_df.loc['support']\n",
    "    total = support.sum() \n",
    "    class_report_df['avg / total'] = avg[:-1] + [total]\n",
    "\n",
    "    class_report_df = class_report_df.T\n",
    "    class_report_df['pred'] = pred_cnt\n",
    "    class_report_df['pred'].iloc[-1] = total\n",
    "\n",
    "    if not (y_score is None):\n",
    "        fpr = dict()\n",
    "        tpr = dict()\n",
    "        roc_auc = dict()\n",
    "        for label_it, label in enumerate(labels):\n",
    "            fpr[label], tpr[label], _ = roc_curve(\n",
    "                (y_true == label).astype(int), \n",
    "                y_score[:, label_it])\n",
    "\n",
    "            roc_auc[label] = auc(fpr[label], tpr[label])\n",
    "\n",
    "        if average == 'micro':\n",
    "            if n_classes <= 2:\n",
    "                fpr[\"avg / total\"], tpr[\"avg / total\"], _ = roc_curve(\n",
    "                    lb.transform(y_true).ravel(), \n",
    "                    y_score[:, 1].ravel())\n",
    "            else:\n",
    "                fpr[\"avg / total\"], tpr[\"avg / total\"], _ = roc_curve(\n",
    "                        lb.transform(y_true).ravel(), \n",
    "                        y_score.ravel())\n",
    "\n",
    "            roc_auc[\"avg / total\"] = auc(\n",
    "                fpr[\"avg / total\"], \n",
    "                tpr[\"avg / total\"])\n",
    "\n",
    "        elif average == 'macro':\n",
    "            # First aggregate all false positive rates\n",
    "            all_fpr = np.unique(np.concatenate([\n",
    "                fpr[i] for i in labels]\n",
    "            ))\n",
    "\n",
    "            # Then interpolate all ROC curves at this points\n",
    "            mean_tpr = np.zeros_like(all_fpr)\n",
    "            for i in labels:\n",
    "                mean_tpr += interp(all_fpr, fpr[i], tpr[i])\n",
    "\n",
    "            # Finally average it and compute AUC\n",
    "            mean_tpr /= n_classes\n",
    "\n",
    "            fpr[\"macro\"] = all_fpr\n",
    "            tpr[\"macro\"] = mean_tpr\n",
    "\n",
    "            roc_auc[\"avg / total\"] = auc(fpr[\"macro\"], tpr[\"macro\"])\n",
    "\n",
    "        class_report_df['AUC'] = pd.Series(roc_auc)\n",
    "\n",
    "    return class_report_df"
   ]
  },
  {
   "cell_type": "code",
   "execution_count": 20,
   "metadata": {},
   "outputs": [],
   "source": [
    "# I experimented with several combinations and found this the best fit.\n",
    "# There wasn't a clear way to do gridsearch in this instance \n",
    "max_ft = 600\n",
    "mindf = 2"
   ]
  },
  {
   "cell_type": "markdown",
   "metadata": {},
   "source": [
    "### 1.5.1 TRY A LOGISTIC REGRESSION MODEL"
   ]
  },
  {
   "cell_type": "code",
   "execution_count": 21,
   "metadata": {},
   "outputs": [
    {
     "name": "stdout",
     "output_type": "stream",
     "text": [
      "... Processing Junior_Level\n",
      "Test Accuracy Score : 0.7093596059113301\n",
      "... Processing Mid_Level\n",
      "Test Accuracy Score : 0.7093596059113301\n",
      "... Processing Senior_Level\n",
      "Test Accuracy Score : 0.7093596059113301\n"
     ]
    }
   ],
   "source": [
    "LogReg_pipeline = Pipeline(\n",
    "    [\n",
    "        (\n",
    "            \"vect\",\n",
    "            CountVectorizer(\n",
    "                stop_words=\"english\", ngram_range=(1, 2), max_features=max_ft, min_df=mindf\n",
    "            ),\n",
    "        ),\n",
    "        (\"clf\", OneVsRestClassifier(LogisticRegression(solver=\"sag\"), n_jobs=-1)),\n",
    "    ]\n",
    ")\n",
    "for category in categories:\n",
    "    print(\"... Processing {}\".format(category))\n",
    "\n",
    "    LogReg_pipeline.fit(X_train, y_train)\n",
    "\n",
    "    y_pred = LogReg_pipeline.predict(X_test)\n",
    "    print(\"Test Accuracy Score :\", accuracy_score(y_test, y_pred))"
   ]
  },
  {
   "cell_type": "code",
   "execution_count": 22,
   "metadata": {},
   "outputs": [
    {
     "name": "stdout",
     "output_type": "stream",
     "text": [
      "              precision    recall  f1-score  support   pred       AUC\n",
      "Junior_Level   0.250000  0.043478  0.074074     23.0    4.0  0.757729\n",
      "Mid_Level      0.771930  0.880000  0.822430    150.0  171.0  0.572075\n",
      "Senior_Level   0.392857  0.366667  0.379310     30.0   28.0  0.597303\n",
      "avg / total    0.656774  0.709360  0.672155    203.0  203.0  0.843105\n"
     ]
    }
   ],
   "source": [
    "report_with_auc = class_report(\n",
    "    y_true=y_test, \n",
    "    y_pred=LogReg_pipeline.predict(X_test), \n",
    "    y_score=LogReg_pipeline.predict_proba(X_test))\n",
    "\n",
    "print(report_with_auc)"
   ]
  },
  {
   "cell_type": "markdown",
   "metadata": {},
   "source": [
    "### 1.5.2 TRY A RANDOM FOREST CLASSIFIER"
   ]
  },
  {
   "cell_type": "code",
   "execution_count": 23,
   "metadata": {},
   "outputs": [
    {
     "name": "stdout",
     "output_type": "stream",
     "text": [
      "... Processing Junior_Level\n",
      "Test Accuracy Score : 0.7536945812807881\n",
      "... Processing Mid_Level\n",
      "Test Accuracy Score : 0.7586206896551724\n",
      "... Processing Senior_Level\n",
      "Test Accuracy Score : 0.7536945812807881\n"
     ]
    }
   ],
   "source": [
    "RFC_pipeline = Pipeline(\n",
    "    [\n",
    "        (\n",
    "            \"vect\",\n",
    "            CountVectorizer(\n",
    "                stop_words=\"english\", ngram_range=(1, 2), max_features=max_ft, min_df=mindf\n",
    "            ),\n",
    "        ),\n",
    "        (\n",
    "            \"clf\",\n",
    "            OneVsRestClassifier(\n",
    "                RandomForestClassifier(\n",
    "                    n_estimators=200,\n",
    "                    max_depth=None,\n",
    "                    max_features=\"auto\",\n",
    "                    criterion=\"gini\",\n",
    "                ),\n",
    "                n_jobs=-1,\n",
    "            ),\n",
    "        ),\n",
    "    ]\n",
    ")\n",
    "for category in categories:\n",
    "    print(\"... Processing {}\".format(category))\n",
    "\n",
    "    RFC_pipeline.fit(X_train, y_train)\n",
    "\n",
    "    y_pred = RFC_pipeline.predict(X_test)\n",
    "    print(\"Test Accuracy Score :\", accuracy_score(y_test, y_pred))"
   ]
  },
  {
   "cell_type": "code",
   "execution_count": 24,
   "metadata": {},
   "outputs": [
    {
     "name": "stdout",
     "output_type": "stream",
     "text": [
      "              precision    recall  f1-score  support   pred       AUC\n",
      "Junior_Level   0.000000  0.000000  0.000000     23.0    1.0  0.729348\n",
      "Mid_Level      0.757732  0.980000  0.854651    150.0  194.0  0.622390\n",
      "Senior_Level   0.750000  0.200000  0.315789     30.0    8.0  0.687861\n",
      "avg / total    0.670738  0.753695  0.678184    203.0  203.0  0.865685\n"
     ]
    }
   ],
   "source": [
    "report_with_auc = class_report(\n",
    "    y_true=y_test, \n",
    "    y_pred=RFC_pipeline.predict(X_test), \n",
    "    y_score=RFC_pipeline.predict_proba(X_test))\n",
    "\n",
    "print(report_with_auc)"
   ]
  },
  {
   "cell_type": "markdown",
   "metadata": {},
   "source": [
    "### 1.5.3 TRY A GRADIENT BOOSTING CLASSIFIER"
   ]
  },
  {
   "cell_type": "code",
   "execution_count": 25,
   "metadata": {},
   "outputs": [
    {
     "name": "stdout",
     "output_type": "stream",
     "text": [
      "... Processing Junior_Level\n",
      "Test Accuracy Score : 0.7536945812807881\n",
      "... Processing Mid_Level\n",
      "Test Accuracy Score : 0.7536945812807881\n",
      "... Processing Senior_Level\n",
      "Test Accuracy Score : 0.7536945812807881\n"
     ]
    }
   ],
   "source": [
    "GBC_pipeline = Pipeline(\n",
    "    [\n",
    "        (\n",
    "            \"vect\",\n",
    "            CountVectorizer(\n",
    "                stop_words=\"english\", ngram_range=(1, 2), max_features=max_ft, min_df=mindf\n",
    "            ),\n",
    "        ),\n",
    "        (\n",
    "            \"clf\",\n",
    "            OneVsRestClassifier(\n",
    "                GradientBoostingClassifier(\n",
    "                    learning_rate=0.1,\n",
    "                    max_depth=None,\n",
    "                    max_leaf_nodes=850,\n",
    "                    min_samples_leaf=15,\n",
    "                ),\n",
    "                n_jobs=-1,\n",
    "            ),\n",
    "        ),\n",
    "    ]\n",
    ")\n",
    "for category in categories:\n",
    "    print(\"... Processing {}\".format(category))\n",
    "\n",
    "    GBC_pipeline.fit(X_train, y_train)\n",
    "\n",
    "    y_pred = GBC_pipeline.predict(X_test)\n",
    "    print(\"Test Accuracy Score :\", accuracy_score(y_test, y_pred))"
   ]
  },
  {
   "cell_type": "code",
   "execution_count": 26,
   "metadata": {},
   "outputs": [
    {
     "name": "stdout",
     "output_type": "stream",
     "text": [
      "              precision    recall  f1-score  support   pred       AUC\n",
      "Junior_Level   0.500000  0.043478  0.080000     23.0    2.0  0.826087\n",
      "Mid_Level      0.760417  0.973333  0.853801    150.0  192.0  0.670440\n",
      "Senior_Level   0.666667  0.200000  0.307692     30.0    9.0  0.729865\n",
      "avg / total    0.717057  0.753695  0.685423    203.0  203.0  0.885753\n"
     ]
    }
   ],
   "source": [
    "report_with_auc = class_report(\n",
    "    y_true=y_test, \n",
    "    y_pred=GBC_pipeline.predict(X_test), \n",
    "    y_score=GBC_pipeline.predict_proba(X_test))\n",
    "\n",
    "print(report_with_auc)"
   ]
  },
  {
   "cell_type": "markdown",
   "metadata": {},
   "source": [
    "### 1.5.3 TRY An XGB CLASSIFIER"
   ]
  },
  {
   "cell_type": "code",
   "execution_count": 27,
   "metadata": {},
   "outputs": [
    {
     "name": "stdout",
     "output_type": "stream",
     "text": [
      "... Processing Junior_Level\n",
      "Test Accuracy Score : 0.7536945812807881\n",
      "... Processing Mid_Level\n",
      "Test Accuracy Score : 0.7536945812807881\n",
      "... Processing Senior_Level\n",
      "Test Accuracy Score : 0.7536945812807881\n"
     ]
    }
   ],
   "source": [
    "XGB_pipeline = Pipeline(\n",
    "    [\n",
    "        (\n",
    "            \"vect\",\n",
    "            CountVectorizer(\n",
    "                stop_words=\"english\", ngram_range=(1, 2), max_features=max_ft, min_df=mindf\n",
    "            ),\n",
    "        ),\n",
    "        (\n",
    "            \"clf\",\n",
    "            OneVsRestClassifier(\n",
    "                XGBClassifier(\n",
    "                    base_score=0.5,\n",
    "                    colsample_bylevel=1,\n",
    "                    colsample_bytree=1,\n",
    "                    gamma=0,\n",
    "                    learning_rate=0.1,\n",
    "                    max_delta_step=0,\n",
    "                    max_depth=10,\n",
    "                    min_child_weight=2,\n",
    "                    missing=None,\n",
    "                    n_estimators=100,\n",
    "                    reg_alpha=0,\n",
    "                    objective=\"binary:logistic\",\n",
    "                    reg_lambda=1,\n",
    "                    scale_pos_weight=1,\n",
    "                    seed=0,\n",
    "                    silent=True,\n",
    "                    subsample=1,\n",
    "                ),\n",
    "                n_jobs=-1,\n",
    "            ),\n",
    "        ),\n",
    "    ]\n",
    ")\n",
    "for category in categories:\n",
    "    print(\"... Processing {}\".format(category))\n",
    "\n",
    "    XGB_pipeline.fit(X_train, y_train)\n",
    "\n",
    "    y_pred = XGB_pipeline.predict(X_test)\n",
    "    print(\"Test Accuracy Score :\", accuracy_score(y_test, y_pred))"
   ]
  },
  {
   "cell_type": "code",
   "execution_count": 28,
   "metadata": {},
   "outputs": [
    {
     "name": "stdout",
     "output_type": "stream",
     "text": [
      "              precision    recall  f1-score  support   pred       AUC\n",
      "Junior_Level   0.500000  0.043478  0.080000     23.0    2.0  0.834300\n",
      "Mid_Level      0.760417  0.973333  0.853801    150.0  192.0  0.710692\n",
      "Senior_Level   0.666667  0.200000  0.307692     30.0    9.0  0.755491\n",
      "avg / total    0.717057  0.753695  0.685423    203.0  203.0  0.894210\n"
     ]
    }
   ],
   "source": [
    "report_with_auc = class_report(\n",
    "    y_true=y_test, \n",
    "    y_pred=XGB_pipeline.predict(X_test), \n",
    "    y_score=XGB_pipeline.predict_proba(X_test))\n",
    "\n",
    "print(report_with_auc)"
   ]
  },
  {
   "cell_type": "markdown",
   "metadata": {},
   "source": [
    "### ANALYSIS:\n",
    "The XGB Classifier offers the best AUC and overall scores, even though it predicts very poorly for the junior and senior levels.\n",
    "\n",
    "If there's a business case for focusing on predicting for either the junior or senior roles, we could tune the XGB Classifier or use a simpler one like the Random Forest with class weightage."
   ]
  },
  {
   "cell_type": "markdown",
   "metadata": {},
   "source": [
    "### This is the end of the coding section for Project 4. I'm not attempting the Bonus Question.\n",
    "### I'll present a summary report in Notebook 4.0."
   ]
  },
  {
   "cell_type": "code",
   "execution_count": null,
   "metadata": {},
   "outputs": [],
   "source": []
  }
 ],
 "metadata": {
  "kernelspec": {
   "display_name": "Python 3",
   "language": "python",
   "name": "python3"
  },
  "language_info": {
   "codemirror_mode": {
    "name": "ipython",
    "version": 3
   },
   "file_extension": ".py",
   "mimetype": "text/x-python",
   "name": "python",
   "nbconvert_exporter": "python",
   "pygments_lexer": "ipython3",
   "version": "3.6.8"
  }
 },
 "nbformat": 4,
 "nbformat_minor": 2
}
