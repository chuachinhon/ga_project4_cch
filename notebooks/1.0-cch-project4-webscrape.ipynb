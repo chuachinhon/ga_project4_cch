{
 "cells": [
  {
   "cell_type": "markdown",
   "metadata": {},
   "source": [
    "<img src=\"http://imgur.com/1ZcRyrc.png\" style=\"float: left; margin: 15px; height: 80px\">\n",
    "\n",
    "# Project 4: Web Scraping Job Postings"
   ]
  },
  {
   "cell_type": "markdown",
   "metadata": {},
   "source": [
    "Detailed instructions are in Readme.md \n",
    "My answers for this Project are split into several notebooks to make it easier to review key sections and make changes where needed. In 1.0, I start with the scraping of the jobs posting data."
   ]
  },
  {
   "cell_type": "code",
   "execution_count": 1,
   "metadata": {},
   "outputs": [],
   "source": [
    "%load_ext blackcellmagic"
   ]
  },
  {
   "cell_type": "code",
   "execution_count": 2,
   "metadata": {},
   "outputs": [],
   "source": [
    "import numpy as np\n",
    "import os\n",
    "import pandas as pd\n",
    "import requests\n",
    "from selenium import webdriver\n",
    "from selenium.webdriver.common.keys import Keys\n",
    "import urllib\n",
    "\n",
    "from bs4 import BeautifulSoup\n",
    "from time import sleep"
   ]
  },
  {
   "cell_type": "markdown",
   "metadata": {},
   "source": [
    "## 1. SCRAPPING FOR JOBS DATA\n",
    "\n",
    "### 1.1 Scrapping for links matching search terms: \n",
    "Terms used: data scientist, data science, data analyst, data analytics, business analytics, financial analytics, marketing analytics, data visualisation, data operations, data strategist, data engineer, data architect, data manager, data intern, data lead, data consultant, machine learning, deep learning, big data, business intelligence (To try to get at least 1,000 unique links).\n",
    "Source: https://www.mycareersfuture.sg"
   ]
  },
  {
   "cell_type": "code",
   "execution_count": 3,
   "metadata": {},
   "outputs": [],
   "source": [
    "links = [\n",
    "    \"https://www.mycareersfuture.sg/search?search=data%20scientist&page={}\",\n",
    "    \"https://www.mycareersfuture.sg/search?search=data%20science&page={}\",\n",
    "    \"https://www.mycareersfuture.sg/search?search=data%20analyst&page={}\",\n",
    "    \"https://www.mycareersfuture.sg/search?search=data%20analytics&page={}\",\n",
    "    \"https://www.mycareersfuture.sg/search?search=business%20analytics&page={}\",\n",
    "    \"https://www.mycareersfuture.sg/search?search=financial%20analytics&page={}\",\n",
    "    \"https://www.mycareersfuture.sg/search?search=marketing%20analytics&page={}\",\n",
    "    \"https://www.mycareersfuture.sg/search?search=data%20visualisation&page={}\",\n",
    "    \"https://www.mycareersfuture.sg/search?search=data%20operations&page={}\",\n",
    "    \"https://www.mycareersfuture.sg/search?search=data%20strategist&page={}\",\n",
    "    \"https://www.mycareersfuture.sg/search?search=data%20engineer&page={}\",\n",
    "    \"https://www.mycareersfuture.sg/search?search=data%20architect&page={}\",\n",
    "    \"https://www.mycareersfuture.sg/search?search=data%20manager&page={}\",\n",
    "    \"https://www.mycareersfuture.sg/search?search=data%20lead&page={}\",\n",
    "    \"https://www.mycareersfuture.sg/search?search=data%20consultant&page={}\",\n",
    "    \"https://www.mycareersfuture.sg/search?search=data%20intern&page={}\",\n",
    "    \"https://www.mycareersfuture.sg/search?search=machine%20learning&page={}\",\n",
    "    \"https://www.mycareersfuture.sg/search?search=deep%20learning&page={}\",\n",
    "    \"https://www.mycareersfuture.sg/search?search=big%20data&page={}\",\n",
    "    \"https://www.mycareersfuture.sg/search?search=business%20intelligence&page={}\",\n",
    "]\n",
    "\n",
    "job_postings = []\n",
    "\n",
    "for link in links:\n",
    "    for pages in range(0, 30 + 1):\n",
    "        driver = webdriver.Chrome(executable_path=\"../data/chromedriver/chromedriver\")\n",
    "\n",
    "        driver.get(link.format(pages))\n",
    "\n",
    "        sleep(5)\n",
    "\n",
    "        html = BeautifulSoup(driver.page_source, \"lxml\")\n",
    "\n",
    "        for job_card in html.find_all(\n",
    "            \"div\", id=lambda x: x and x.startswith(\"job-card-\")\n",
    "        ):\n",
    "            job_postings.append(\n",
    "                \"https://www.mycareersfuture.sg\" + job_card.find(\"a\")[\"href\"]\n",
    "            )\n",
    "\n",
    "        driver.close()"
   ]
  },
  {
   "cell_type": "code",
   "execution_count": 4,
   "metadata": {},
   "outputs": [],
   "source": [
    "#Removing duplicate links\n",
    "job_postings = list(dict.fromkeys(job_postings))"
   ]
  },
  {
   "cell_type": "code",
   "execution_count": 5,
   "metadata": {},
   "outputs": [
    {
     "data": {
      "text/plain": [
       "975"
      ]
     },
     "execution_count": 5,
     "metadata": {},
     "output_type": "execute_result"
    }
   ],
   "source": [
    "len(job_postings)\n",
    "# Close to requirement for at least 1,000 job listings. Moving to next stage"
   ]
  },
  {
   "cell_type": "markdown",
   "metadata": {},
   "source": [
    "### 1.2 CREATING CSV FILE WITH JOB LISTINGS"
   ]
  },
  {
   "cell_type": "code",
   "execution_count": 40,
   "metadata": {},
   "outputs": [],
   "source": [
    "company = []\n",
    "title = []\n",
    "salary = []\n",
    "responsibilities = []\n",
    "requirements = []\n",
    "seniority = []\n",
    "employment_type = []\n",
    "category = []\n",
    "address = []\n",
    "failed_url = []\n",
    "\n",
    "driver = webdriver.Chrome(executable_path=\"../data/chromedriver/chromedriver\")\n",
    "\n",
    "for index, link in enumerate(job_postings):\n",
    "\n",
    "    try:\n",
    "        driver.get(link)\n",
    "        sleep(3)\n",
    "        job_page = driver.page_source\n",
    "\n",
    "        soup = BeautifulSoup(job_page, \"lxml\")\n",
    "\n",
    "        company.append(soup.find(\"p\", {\"name\": \"company\"}))\n",
    "        title.append(soup.find(\"h1\", {\"id\": \"job_title\"}))\n",
    "        salary.append(soup.find(\"div\", {\"class\": \"lh-solid\"}))\n",
    "        responsibilities.append(soup.find(\"div\", {\"id\": \"job_description\"}))\n",
    "        requirements.append(soup.find(\"div\", {\"id\": \"requirements\"}))\n",
    "        seniority.append(soup.find(\"p\", {\"id\": \"seniority\"}))\n",
    "        employment_type.append(soup.find(\"p\", {\"id\": \"employment_type\"}))\n",
    "        category.append(soup.find(\"p\", {\"id\": \"job-categories\"}))\n",
    "        address.append(soup.find(\"p\", {\"id\": \"address\"}))\n",
    "\n",
    "    except:\n",
    "        failed_url.append(link)"
   ]
  },
  {
   "cell_type": "code",
   "execution_count": 41,
   "metadata": {},
   "outputs": [],
   "source": [
    "raw = [company, title, salary, responsibilities, requirements, seniority, employment_type, category, address]"
   ]
  },
  {
   "cell_type": "code",
   "execution_count": 42,
   "metadata": {},
   "outputs": [],
   "source": [
    "clean = {}\n",
    "\n",
    "for index, items in enumerate(raw):\n",
    "    clean[index] = []\n",
    "    for elements in items:\n",
    "        try:\n",
    "            clean[index].append(elements.text)\n",
    "        except:\n",
    "            clean[index].append(None)"
   ]
  },
  {
   "cell_type": "code",
   "execution_count": 43,
   "metadata": {},
   "outputs": [],
   "source": [
    "data_jobs = pd.DataFrame(clean)"
   ]
  },
  {
   "cell_type": "code",
   "execution_count": 45,
   "metadata": {},
   "outputs": [],
   "source": [
    "data_jobs.columns = [\n",
    "    \"Company\",\n",
    "    \"Title\",\n",
    "    \"Salary_Range\",\n",
    "    \"Responsibilities\",\n",
    "    \"Requirements\",\n",
    "    \"Seniority\",\n",
    "    \"Employment_Type\",\n",
    "    \"Category\",\n",
    "    \"Address\",\n",
    "]"
   ]
  },
  {
   "cell_type": "code",
   "execution_count": 46,
   "metadata": {},
   "outputs": [
    {
     "data": {
      "text/html": [
       "<div>\n",
       "<style scoped>\n",
       "    .dataframe tbody tr th:only-of-type {\n",
       "        vertical-align: middle;\n",
       "    }\n",
       "\n",
       "    .dataframe tbody tr th {\n",
       "        vertical-align: top;\n",
       "    }\n",
       "\n",
       "    .dataframe thead th {\n",
       "        text-align: right;\n",
       "    }\n",
       "</style>\n",
       "<table border=\"1\" class=\"dataframe\">\n",
       "  <thead>\n",
       "    <tr style=\"text-align: right;\">\n",
       "      <th></th>\n",
       "      <th>Company</th>\n",
       "      <th>Title</th>\n",
       "      <th>Salary_Range</th>\n",
       "      <th>Responsibilities</th>\n",
       "      <th>Requirements</th>\n",
       "      <th>Seniority</th>\n",
       "      <th>Employment_Type</th>\n",
       "      <th>Category</th>\n",
       "      <th>Address</th>\n",
       "    </tr>\n",
       "  </thead>\n",
       "  <tbody>\n",
       "    <tr>\n",
       "      <th>0</th>\n",
       "      <td>HITACHI CONSULTING SINGAPORE PTE. LTD.</td>\n",
       "      <td>Senior Consultant (Data Scientist)</td>\n",
       "      <td>$6,000to$9,000</td>\n",
       "      <td>Roles &amp; Responsibilities Problem solver with c...</td>\n",
       "      <td>Requirements Sound knowledge of machine learni...</td>\n",
       "      <td>Senior Executive</td>\n",
       "      <td>Permanent, Contract</td>\n",
       "      <td>Information Technology</td>\n",
       "      <td>PLAZA 8 @ CBP, 1 CHANGI BUSINESS PARK CRESCENT...</td>\n",
       "    </tr>\n",
       "    <tr>\n",
       "      <th>1</th>\n",
       "      <td>TRAVELOKA SERVICES PTE. LTD.</td>\n",
       "      <td>Data Science Lead</td>\n",
       "      <td>$10,000to$15,000</td>\n",
       "      <td>Roles &amp; ResponsibilitiesAs a Data scientist, y...</td>\n",
       "      <td>RequirementsWe are looking for someone with:  ...</td>\n",
       "      <td>Manager</td>\n",
       "      <td>Full Time</td>\n",
       "      <td>Information Technology</td>\n",
       "      <td>None</td>\n",
       "    </tr>\n",
       "    <tr>\n",
       "      <th>2</th>\n",
       "      <td>TRAVELOKA SERVICES PTE. LTD.</td>\n",
       "      <td>Senior Level Data Scientist</td>\n",
       "      <td>$8,300to$15,000</td>\n",
       "      <td>Roles &amp; ResponsibilitiesJob Description As a D...</td>\n",
       "      <td>Requirements  Solid programming skills and und...</td>\n",
       "      <td>Executive</td>\n",
       "      <td>Permanent</td>\n",
       "      <td>Information Technology</td>\n",
       "      <td>None</td>\n",
       "    </tr>\n",
       "    <tr>\n",
       "      <th>3</th>\n",
       "      <td>TRAVELOKA SERVICES PTE. LTD.</td>\n",
       "      <td>Mid - Senior Level Data Scientist</td>\n",
       "      <td>$6,100to$10,700</td>\n",
       "      <td>Roles &amp; ResponsibilitiesAs a Data scientist, y...</td>\n",
       "      <td>Requirements  Solid programming skills and und...</td>\n",
       "      <td>Executive</td>\n",
       "      <td>Permanent</td>\n",
       "      <td>Information Technology</td>\n",
       "      <td>None</td>\n",
       "    </tr>\n",
       "    <tr>\n",
       "      <th>4</th>\n",
       "      <td>TRAVELOKA SERVICES PTE. LTD.</td>\n",
       "      <td>Mid Level Data Scientist</td>\n",
       "      <td>$4,300to$7,600</td>\n",
       "      <td>Roles &amp; ResponsibilitiesAs a Data scientist, y...</td>\n",
       "      <td>Requirements  Solid programming skills and und...</td>\n",
       "      <td>Executive</td>\n",
       "      <td>Permanent</td>\n",
       "      <td>Information Technology</td>\n",
       "      <td>None</td>\n",
       "    </tr>\n",
       "  </tbody>\n",
       "</table>\n",
       "</div>"
      ],
      "text/plain": [
       "                                  Company                               Title  \\\n",
       "0  HITACHI CONSULTING SINGAPORE PTE. LTD.  Senior Consultant (Data Scientist)   \n",
       "1            TRAVELOKA SERVICES PTE. LTD.                   Data Science Lead   \n",
       "2            TRAVELOKA SERVICES PTE. LTD.         Senior Level Data Scientist   \n",
       "3            TRAVELOKA SERVICES PTE. LTD.   Mid - Senior Level Data Scientist   \n",
       "4            TRAVELOKA SERVICES PTE. LTD.            Mid Level Data Scientist   \n",
       "\n",
       "       Salary_Range                                   Responsibilities  \\\n",
       "0    $6,000to$9,000  Roles & Responsibilities Problem solver with c...   \n",
       "1  $10,000to$15,000  Roles & ResponsibilitiesAs a Data scientist, y...   \n",
       "2   $8,300to$15,000  Roles & ResponsibilitiesJob Description As a D...   \n",
       "3   $6,100to$10,700  Roles & ResponsibilitiesAs a Data scientist, y...   \n",
       "4    $4,300to$7,600  Roles & ResponsibilitiesAs a Data scientist, y...   \n",
       "\n",
       "                                        Requirements         Seniority  \\\n",
       "0  Requirements Sound knowledge of machine learni...  Senior Executive   \n",
       "1  RequirementsWe are looking for someone with:  ...           Manager   \n",
       "2  Requirements  Solid programming skills and und...         Executive   \n",
       "3  Requirements  Solid programming skills and und...         Executive   \n",
       "4  Requirements  Solid programming skills and und...         Executive   \n",
       "\n",
       "       Employment_Type                Category  \\\n",
       "0  Permanent, Contract  Information Technology   \n",
       "1            Full Time  Information Technology   \n",
       "2            Permanent  Information Technology   \n",
       "3            Permanent  Information Technology   \n",
       "4            Permanent  Information Technology   \n",
       "\n",
       "                                             Address  \n",
       "0  PLAZA 8 @ CBP, 1 CHANGI BUSINESS PARK CRESCENT...  \n",
       "1                                               None  \n",
       "2                                               None  \n",
       "3                                               None  \n",
       "4                                               None  "
      ]
     },
     "execution_count": 46,
     "metadata": {},
     "output_type": "execute_result"
    }
   ],
   "source": [
    "data_jobs.head()"
   ]
  },
  {
   "cell_type": "code",
   "execution_count": 68,
   "metadata": {},
   "outputs": [],
   "source": [
    "#data_jobs = data_jobs.to_csv('../data/jobs.csv')"
   ]
  },
  {
   "cell_type": "markdown",
   "metadata": {},
   "source": [
    "### DATA CLEANING AND EDA TO BE CONTINUED IN 2.0-cch-project4-EDA"
   ]
  }
 ],
 "metadata": {
  "kernelspec": {
   "display_name": "Python 3",
   "language": "python",
   "name": "python3"
  },
  "language_info": {
   "codemirror_mode": {
    "name": "ipython",
    "version": 3
   },
   "file_extension": ".py",
   "mimetype": "text/x-python",
   "name": "python",
   "nbconvert_exporter": "python",
   "pygments_lexer": "ipython3",
   "version": "3.6.8"
  }
 },
 "nbformat": 4,
 "nbformat_minor": 2
}
