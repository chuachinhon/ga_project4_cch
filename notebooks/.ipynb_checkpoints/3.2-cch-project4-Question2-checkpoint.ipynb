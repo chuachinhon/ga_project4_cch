{
 "cells": [
  {
   "cell_type": "markdown",
   "metadata": {},
   "source": [
    "<img src=\"http://imgur.com/1ZcRyrc.png\" style=\"float: left; margin: 15px; height: 80px\">\n",
    "\n",
    "# Project 4: Web Scraping Job Postings"
   ]
  },
  {
   "cell_type": "markdown",
   "metadata": {},
   "source": [
    "Detailed instructions are in Readme.md \n",
    "My answers for this Project are split into several notebooks to make it easier to review key sections and make changes where needed. In 3.0, I work on building the models to answer Question 2."
   ]
  },
  {
   "cell_type": "code",
   "execution_count": 1,
   "metadata": {},
   "outputs": [],
   "source": [
    "%load_ext blackcellmagic"
   ]
  },
  {
   "cell_type": "code",
   "execution_count": 81,
   "metadata": {},
   "outputs": [],
   "source": [
    "import matplotlib as mpl\n",
    "import matplotlib.pyplot as plt\n",
    "import numpy as np\n",
    "import pandas as pd\n",
    "import re\n",
    "import scipy as sp\n",
    "import scipy.stats as stats\n",
    "import seaborn as sns\n",
    "import xgboost as xgb\n",
    "\n",
    "from io import StringIO\n",
    "from sklearn import metrics\n",
    "from sklearn.dummy import DummyClassifier, DummyRegressor\n",
    "from sklearn.ensemble import RandomForestClassifier \n",
    "from sklearn.feature_extraction.text import CountVectorizer, TfidfVectorizer, TfidfTransformer\n",
    "from sklearn.feature_selection import chi2\n",
    "from sklearn.linear_model import LogisticRegression\n",
    "from sklearn.model_selection import cross_val_score, GridSearchCV, train_test_split\n",
    "from sklearn.naive_bayes import MultinomialNB, BernoulliNB, GaussianNB\n",
    "from sklearn.metrics import accuracy_score, confusion_matrix, f1_score, mean_squared_error, precision_score, recall_score\n",
    "from sklearn.svm import SVC, LinearSVC\n",
    "\n",
    "mpl.rcParams[\"figure.dpi\"] = 300\n",
    "%matplotlib inline\n",
    "%config InlineBackend.figure_format ='retina'"
   ]
  },
  {
   "cell_type": "code",
   "execution_count": 3,
   "metadata": {},
   "outputs": [],
   "source": [
    "jobs = pd.read_csv('../data/jobs_clean.csv')"
   ]
  },
  {
   "cell_type": "code",
   "execution_count": 4,
   "metadata": {},
   "outputs": [
    {
     "data": {
      "text/html": [
       "<div>\n",
       "<style scoped>\n",
       "    .dataframe tbody tr th:only-of-type {\n",
       "        vertical-align: middle;\n",
       "    }\n",
       "\n",
       "    .dataframe tbody tr th {\n",
       "        vertical-align: top;\n",
       "    }\n",
       "\n",
       "    .dataframe thead th {\n",
       "        text-align: right;\n",
       "    }\n",
       "</style>\n",
       "<table border=\"1\" class=\"dataframe\">\n",
       "  <thead>\n",
       "    <tr style=\"text-align: right;\">\n",
       "      <th></th>\n",
       "      <th>Company</th>\n",
       "      <th>Title</th>\n",
       "      <th>Responsibilities</th>\n",
       "      <th>Requirements</th>\n",
       "      <th>Seniority</th>\n",
       "      <th>Employment_Type</th>\n",
       "      <th>Category</th>\n",
       "      <th>Address</th>\n",
       "      <th>Salary_Min</th>\n",
       "      <th>Salary_Max</th>\n",
       "      <th>Salary_Average</th>\n",
       "    </tr>\n",
       "  </thead>\n",
       "  <tbody>\n",
       "    <tr>\n",
       "      <th>0</th>\n",
       "      <td>Hitachi Consulting Singapore</td>\n",
       "      <td>Data Scientist</td>\n",
       "      <td>Problem solver with curious mindset with a hi...</td>\n",
       "      <td>Sound knowledge of machine learning concepts ...</td>\n",
       "      <td>Senior Executive</td>\n",
       "      <td>Permanent</td>\n",
       "      <td>Information Technology</td>\n",
       "      <td>Plaza 8  Cbp 1 Changi Business Park Crescent 4...</td>\n",
       "      <td>6000.0</td>\n",
       "      <td>9000.0</td>\n",
       "      <td>7500.0</td>\n",
       "    </tr>\n",
       "    <tr>\n",
       "      <th>1</th>\n",
       "      <td>Traveloka Services</td>\n",
       "      <td>Data Science Lead</td>\n",
       "      <td>As a Data scientist you play a key role to sol...</td>\n",
       "      <td>We are looking for someone with  Passion in bi...</td>\n",
       "      <td>Manager</td>\n",
       "      <td>Permanent</td>\n",
       "      <td>Information Technology</td>\n",
       "      <td>Undisclosed</td>\n",
       "      <td>10000.0</td>\n",
       "      <td>15000.0</td>\n",
       "      <td>12500.0</td>\n",
       "    </tr>\n",
       "    <tr>\n",
       "      <th>2</th>\n",
       "      <td>Traveloka Services</td>\n",
       "      <td>Senior Data Scientist</td>\n",
       "      <td>Job Description As a Data scientist you will b...</td>\n",
       "      <td>Solid programming skills and understanding o...</td>\n",
       "      <td>Executive</td>\n",
       "      <td>Permanent</td>\n",
       "      <td>Information Technology</td>\n",
       "      <td>Undisclosed</td>\n",
       "      <td>8300.0</td>\n",
       "      <td>15000.0</td>\n",
       "      <td>11650.0</td>\n",
       "    </tr>\n",
       "    <tr>\n",
       "      <th>3</th>\n",
       "      <td>Traveloka Services</td>\n",
       "      <td>Mid - Senior Level Data Scientist</td>\n",
       "      <td>As a Data scientist you will be applying machi...</td>\n",
       "      <td>Solid programming skills and understanding o...</td>\n",
       "      <td>Executive</td>\n",
       "      <td>Permanent</td>\n",
       "      <td>Information Technology</td>\n",
       "      <td>Undisclosed</td>\n",
       "      <td>6100.0</td>\n",
       "      <td>10700.0</td>\n",
       "      <td>8400.0</td>\n",
       "    </tr>\n",
       "    <tr>\n",
       "      <th>4</th>\n",
       "      <td>Traveloka Services</td>\n",
       "      <td>Mid Level Data Scientist</td>\n",
       "      <td>As a Data scientist you will be applying machi...</td>\n",
       "      <td>Solid programming skills and understanding o...</td>\n",
       "      <td>Executive</td>\n",
       "      <td>Permanent</td>\n",
       "      <td>Information Technology</td>\n",
       "      <td>Undisclosed</td>\n",
       "      <td>4300.0</td>\n",
       "      <td>7600.0</td>\n",
       "      <td>5950.0</td>\n",
       "    </tr>\n",
       "  </tbody>\n",
       "</table>\n",
       "</div>"
      ],
      "text/plain": [
       "                         Company                              Title  \\\n",
       "0  Hitachi Consulting Singapore                      Data Scientist   \n",
       "1            Traveloka Services                   Data Science Lead   \n",
       "2            Traveloka Services               Senior Data Scientist   \n",
       "3            Traveloka Services   Mid - Senior Level Data Scientist   \n",
       "4            Traveloka Services            Mid Level Data Scientist   \n",
       "\n",
       "                                    Responsibilities  \\\n",
       "0   Problem solver with curious mindset with a hi...   \n",
       "1  As a Data scientist you play a key role to sol...   \n",
       "2  Job Description As a Data scientist you will b...   \n",
       "3  As a Data scientist you will be applying machi...   \n",
       "4  As a Data scientist you will be applying machi...   \n",
       "\n",
       "                                        Requirements         Seniority  \\\n",
       "0   Sound knowledge of machine learning concepts ...  Senior Executive   \n",
       "1  We are looking for someone with  Passion in bi...           Manager   \n",
       "2    Solid programming skills and understanding o...         Executive   \n",
       "3    Solid programming skills and understanding o...         Executive   \n",
       "4    Solid programming skills and understanding o...         Executive   \n",
       "\n",
       "  Employment_Type                Category  \\\n",
       "0       Permanent  Information Technology   \n",
       "1       Permanent  Information Technology   \n",
       "2       Permanent  Information Technology   \n",
       "3       Permanent  Information Technology   \n",
       "4       Permanent  Information Technology   \n",
       "\n",
       "                                             Address  Salary_Min  Salary_Max  \\\n",
       "0  Plaza 8  Cbp 1 Changi Business Park Crescent 4...      6000.0      9000.0   \n",
       "1                                        Undisclosed     10000.0     15000.0   \n",
       "2                                        Undisclosed      8300.0     15000.0   \n",
       "3                                        Undisclosed      6100.0     10700.0   \n",
       "4                                        Undisclosed      4300.0      7600.0   \n",
       "\n",
       "   Salary_Average  \n",
       "0          7500.0  \n",
       "1         12500.0  \n",
       "2         11650.0  \n",
       "3          8400.0  \n",
       "4          5950.0  "
      ]
     },
     "execution_count": 4,
     "metadata": {},
     "output_type": "execute_result"
    }
   ],
   "source": [
    "jobs.head()"
   ]
  },
  {
   "cell_type": "code",
   "execution_count": null,
   "metadata": {},
   "outputs": [],
   "source": []
  },
  {
   "cell_type": "code",
   "execution_count": 7,
   "metadata": {},
   "outputs": [],
   "source": [
    "seniority = jobs[['Seniority', 'Responsibilities']].copy()"
   ]
  },
  {
   "cell_type": "code",
   "execution_count": 8,
   "metadata": {},
   "outputs": [],
   "source": [
    "seniority['Category_ID'] = seniority['Seniority'].factorize()[0]"
   ]
  },
  {
   "cell_type": "code",
   "execution_count": 14,
   "metadata": {},
   "outputs": [
    {
     "data": {
      "text/plain": [
       "(812, 3)"
      ]
     },
     "execution_count": 14,
     "metadata": {},
     "output_type": "execute_result"
    }
   ],
   "source": [
    "seniority.shape"
   ]
  },
  {
   "cell_type": "code",
   "execution_count": 12,
   "metadata": {},
   "outputs": [],
   "source": [
    "category_id = seniority[['Seniority', 'Category_ID']].sort_values('Category_ID')\n",
    "category_to_id = dict(category_id.values)\n",
    "id_to_category = dict(category_id[['Category_ID', 'Seniority']].values)"
   ]
  },
  {
   "cell_type": "code",
   "execution_count": 13,
   "metadata": {},
   "outputs": [
    {
     "data": {
      "text/html": [
       "<div>\n",
       "<style scoped>\n",
       "    .dataframe tbody tr th:only-of-type {\n",
       "        vertical-align: middle;\n",
       "    }\n",
       "\n",
       "    .dataframe tbody tr th {\n",
       "        vertical-align: top;\n",
       "    }\n",
       "\n",
       "    .dataframe thead th {\n",
       "        text-align: right;\n",
       "    }\n",
       "</style>\n",
       "<table border=\"1\" class=\"dataframe\">\n",
       "  <thead>\n",
       "    <tr style=\"text-align: right;\">\n",
       "      <th></th>\n",
       "      <th>Seniority</th>\n",
       "      <th>Responsibilities</th>\n",
       "      <th>Category_ID</th>\n",
       "    </tr>\n",
       "  </thead>\n",
       "  <tbody>\n",
       "    <tr>\n",
       "      <th>807</th>\n",
       "      <td>Professional</td>\n",
       "      <td>1 Work closely with Project Manager and Senior...</td>\n",
       "      <td>3</td>\n",
       "    </tr>\n",
       "    <tr>\n",
       "      <th>808</th>\n",
       "      <td>Manager</td>\n",
       "      <td>About Nike Direct Digital Commerce NDDC Asia H...</td>\n",
       "      <td>1</td>\n",
       "    </tr>\n",
       "    <tr>\n",
       "      <th>809</th>\n",
       "      <td>Manager</td>\n",
       "      <td>As a leader on the International Marketplace t...</td>\n",
       "      <td>1</td>\n",
       "    </tr>\n",
       "    <tr>\n",
       "      <th>810</th>\n",
       "      <td>Executive</td>\n",
       "      <td>Conduct data cleaning for 60...</td>\n",
       "      <td>2</td>\n",
       "    </tr>\n",
       "    <tr>\n",
       "      <th>811</th>\n",
       "      <td>Manager</td>\n",
       "      <td>Manage the delivery of business solutions to ...</td>\n",
       "      <td>1</td>\n",
       "    </tr>\n",
       "  </tbody>\n",
       "</table>\n",
       "</div>"
      ],
      "text/plain": [
       "        Seniority                                   Responsibilities  \\\n",
       "807  Professional  1 Work closely with Project Manager and Senior...   \n",
       "808       Manager  About Nike Direct Digital Commerce NDDC Asia H...   \n",
       "809       Manager  As a leader on the International Marketplace t...   \n",
       "810     Executive                    Conduct data cleaning for 60...   \n",
       "811       Manager   Manage the delivery of business solutions to ...   \n",
       "\n",
       "     Category_ID  \n",
       "807            3  \n",
       "808            1  \n",
       "809            1  \n",
       "810            2  \n",
       "811            1  "
      ]
     },
     "execution_count": 13,
     "metadata": {},
     "output_type": "execute_result"
    }
   ],
   "source": [
    "seniority.tail()"
   ]
  },
  {
   "cell_type": "code",
   "execution_count": 16,
   "metadata": {},
   "outputs": [
    {
     "data": {
      "image/png": "[encoded data removed]",
      "text/plain": [
       "<Figure size 1152x720 with 1 Axes>"
      ]
     },
     "metadata": {
      "image/png": {
       "height": 682,
       "width": 935
      },
      "needs_background": "light"
     },
     "output_type": "display_data"
    }
   ],
   "source": [
    "plt.figure(figsize=(16,10))\n",
    "seniority.groupby('Seniority').Responsibilities.count().plot.bar()\n",
    "plt.show()"
   ]
  },
  {
   "cell_type": "code",
   "execution_count": 60,
   "metadata": {},
   "outputs": [],
   "source": [
    "tfidf = TfidfVectorizer(sublinear_tf=True, min_df=20, ngram_range=(1, 2), norm='l2', stop_words='english')"
   ]
  },
  {
   "cell_type": "code",
   "execution_count": 61,
   "metadata": {},
   "outputs": [],
   "source": [
    "features = tfidf.fit_transform(seniority['Responsibilities']).toarray()\n",
    "labels = seniority['Category_ID']"
   ]
  },
  {
   "cell_type": "code",
   "execution_count": 62,
   "metadata": {},
   "outputs": [
    {
     "data": {
      "text/plain": [
       "(812, 1117)"
      ]
     },
     "execution_count": 62,
     "metadata": {},
     "output_type": "execute_result"
    }
   ],
   "source": [
    "features.shape"
   ]
  },
  {
   "cell_type": "code",
   "execution_count": 63,
   "metadata": {},
   "outputs": [
    {
     "name": "stdout",
     "output_type": "stream",
     "text": [
      "# 'Entry Level':\n",
      "  . Most correlated unigrams:\n",
      "       . engineering\n",
      "       . youll\n",
      "  . Most correlated bigrams:\n",
      "       . engineering performance\n",
      "       . enhance engineering\n",
      "# 'Executive':\n",
      "  . Most correlated unigrams:\n",
      "       . engineering\n",
      "       . youll\n",
      "  . Most correlated bigrams:\n",
      "       . engineering performance\n",
      "       . enhance engineering\n",
      "# 'Junior Executive':\n",
      "  . Most correlated unigrams:\n",
      "       . engineering\n",
      "       . youll\n",
      "  . Most correlated bigrams:\n",
      "       . engineering performance\n",
      "       . enhance engineering\n",
      "# 'Manager':\n",
      "  . Most correlated unigrams:\n",
      "       . engineering\n",
      "       . youll\n",
      "  . Most correlated bigrams:\n",
      "       . engineering performance\n",
      "       . enhance engineering\n",
      "# 'Middle Management':\n",
      "  . Most correlated unigrams:\n",
      "       . engineering\n",
      "       . youll\n",
      "  . Most correlated bigrams:\n",
      "       . engineering performance\n",
      "       . enhance engineering\n",
      "# 'Non-executive':\n",
      "  . Most correlated unigrams:\n",
      "       . engineering\n",
      "       . youll\n",
      "  . Most correlated bigrams:\n",
      "       . engineering performance\n",
      "       . enhance engineering\n",
      "# 'Professional':\n",
      "  . Most correlated unigrams:\n",
      "       . engineering\n",
      "       . youll\n",
      "  . Most correlated bigrams:\n",
      "       . engineering performance\n",
      "       . enhance engineering\n",
      "# 'Senior Executive':\n",
      "  . Most correlated unigrams:\n",
      "       . engineering\n",
      "       . youll\n",
      "  . Most correlated bigrams:\n",
      "       . engineering performance\n",
      "       . enhance engineering\n",
      "# 'Senior Management':\n",
      "  . Most correlated unigrams:\n",
      "       . engineering\n",
      "       . youll\n",
      "  . Most correlated bigrams:\n",
      "       . engineering performance\n",
      "       . enhance engineering\n"
     ]
    }
   ],
   "source": [
    "N = 2\n",
    "for Seniority, Category_ID in sorted(category_to_id.items()):\n",
    "    features_chi2 = chi2(features, labels == category_id)\n",
    "    indices = np.argsort(features_chi2[0])\n",
    "    feature_names = np.array(tfidf.get_feature_names())[indices]\n",
    "    unigrams = [v for v in feature_names if len(v.split(' ')) == 1]\n",
    "    bigrams = [v for v in feature_names if len(v.split(' ')) == 2]\n",
    "    print(\"# '{}':\".format(Seniority))\n",
    "    print(\"  . Most correlated unigrams:\\n       . {}\".format('\\n       . '.join(unigrams[-N:])))\n",
    "    print(\"  . Most correlated bigrams:\\n       . {}\".format('\\n       . '.join(bigrams[-N:])))"
   ]
  },
  {
   "cell_type": "code",
   "execution_count": 64,
   "metadata": {},
   "outputs": [],
   "source": [
    "X = seniority['Responsibilities']\n",
    "y = seniority['Seniority']"
   ]
  },
  {
   "cell_type": "code",
   "execution_count": 65,
   "metadata": {},
   "outputs": [],
   "source": [
    "X_train, X_test, y_train, y_test = train_test_split(X, y, random_state = 42)"
   ]
  },
  {
   "cell_type": "code",
   "execution_count": 68,
   "metadata": {},
   "outputs": [],
   "source": [
    "count_vect = CountVectorizer()\n",
    "X_train_counts = count_vect.fit_transform(X_train)\n",
    "tfidf_transformer = TfidfTransformer()\n",
    "X_train_tfidf = tfidf_transformer.fit_transform(X_train_counts)"
   ]
  },
  {
   "cell_type": "code",
   "execution_count": 69,
   "metadata": {},
   "outputs": [],
   "source": [
    "clf = MultinomialNB().fit(X_train_tfidf, y_train)"
   ]
  },
  {
   "cell_type": "code",
   "execution_count": 71,
   "metadata": {},
   "outputs": [
    {
     "name": "stdout",
     "output_type": "stream",
     "text": [
      "['Professional']\n"
     ]
    }
   ],
   "source": [
    "print(clf.predict(count_vect.transform([\"Experience with building insights using variedalternate data sources Actively collaborate with technology team product management operations teams and other stake holders Move seamlessly between business problems and coding Present complicated analytical solutions to a nontechnical audience Work with very large data sets residing in different data stores in disparate format Readiness to work in a highly resultsoriented and fast changing landscape in a fintech startup Fluency with R python and commonly used machine learning frameworks Fluency with excel and advanced excel Work closely with various stakeholders in the organization to design and implement the data warehousedata lake Build key\\xa0data\\xa0sets to empower insights Credit risk modelling for underwriting and portfolio monitoring using traditional and alternate data sources Enhancing data collection procedures to include information that is relevant for building analytic systems Define the right type of data and metadata ensure consistent clean and integrated data which will be used by business leaders to make more informed decisions\"])))"
   ]
  },
  {
   "cell_type": "code",
   "execution_count": 78,
   "metadata": {},
   "outputs": [
    {
     "name": "stdout",
     "output_type": "stream",
     "text": [
      "['Professional']\n"
     ]
    }
   ],
   "source": [
    "print(clf.predict(count_vect.transform([\"About Dathena Science Dathena is a Swiss and Singaporean company developing data governance software based on machine learning algorithms\\xa0 Purpose  Become a trusted expert in Dathena our client platforms  partner vendor functionality to provide effective operational guidance around these technologies Oversee client service requests acting as a service delivery and escalation manager Develop best practice recommendations for Dathenas operations teams based on product and vertical experience gained in the field  Responsibilities  Appliances installation and configuration Hadoop cluster building and configuring performance monitoring Deployment process optimisation Create reliable data pipelines Key metrics monitoring for failures prevention Communication with AI Developers and Data Science teams Communicate and present to the clients\"])))\n"
   ]
  },
  {
   "cell_type": "code",
   "execution_count": null,
   "metadata": {},
   "outputs": [],
   "source": []
  },
  {
   "cell_type": "code",
   "execution_count": 79,
   "metadata": {},
   "outputs": [
    {
     "data": {
      "text/plain": [
       "Seniority                                                   Executive\n",
       "Responsibilities    About Dathena Science Dathena is a Swiss and S...\n",
       "Category_ID                                                         2\n",
       "Name: 111, dtype: object"
      ]
     },
     "execution_count": 79,
     "metadata": {},
     "output_type": "execute_result"
    }
   ],
   "source": [
    "seniority.iloc[111]"
   ]
  },
  {
   "cell_type": "code",
   "execution_count": 82,
   "metadata": {},
   "outputs": [
    {
     "name": "stderr",
     "output_type": "stream",
     "text": [
      "/anaconda3/lib/python3.6/site-packages/sklearn/linear_model/logistic.py:433: FutureWarning: Default solver will be changed to 'lbfgs' in 0.22. Specify a solver to silence this warning.\n",
      "  FutureWarning)\n",
      "/anaconda3/lib/python3.6/site-packages/sklearn/linear_model/logistic.py:460: FutureWarning: Default multi_class will be changed to 'auto' in 0.22. Specify the multi_class option to silence this warning.\n",
      "  \"this warning.\", FutureWarning)\n",
      "/anaconda3/lib/python3.6/site-packages/sklearn/linear_model/logistic.py:433: FutureWarning: Default solver will be changed to 'lbfgs' in 0.22. Specify a solver to silence this warning.\n",
      "  FutureWarning)\n",
      "/anaconda3/lib/python3.6/site-packages/sklearn/linear_model/logistic.py:460: FutureWarning: Default multi_class will be changed to 'auto' in 0.22. Specify the multi_class option to silence this warning.\n",
      "  \"this warning.\", FutureWarning)\n",
      "/anaconda3/lib/python3.6/site-packages/sklearn/linear_model/logistic.py:433: FutureWarning: Default solver will be changed to 'lbfgs' in 0.22. Specify a solver to silence this warning.\n",
      "  FutureWarning)\n",
      "/anaconda3/lib/python3.6/site-packages/sklearn/linear_model/logistic.py:460: FutureWarning: Default multi_class will be changed to 'auto' in 0.22. Specify the multi_class option to silence this warning.\n",
      "  \"this warning.\", FutureWarning)\n",
      "/anaconda3/lib/python3.6/site-packages/sklearn/linear_model/logistic.py:433: FutureWarning: Default solver will be changed to 'lbfgs' in 0.22. Specify a solver to silence this warning.\n",
      "  FutureWarning)\n",
      "/anaconda3/lib/python3.6/site-packages/sklearn/linear_model/logistic.py:460: FutureWarning: Default multi_class will be changed to 'auto' in 0.22. Specify the multi_class option to silence this warning.\n",
      "  \"this warning.\", FutureWarning)\n",
      "/anaconda3/lib/python3.6/site-packages/sklearn/linear_model/logistic.py:433: FutureWarning: Default solver will be changed to 'lbfgs' in 0.22. Specify a solver to silence this warning.\n",
      "  FutureWarning)\n",
      "/anaconda3/lib/python3.6/site-packages/sklearn/linear_model/logistic.py:460: FutureWarning: Default multi_class will be changed to 'auto' in 0.22. Specify the multi_class option to silence this warning.\n",
      "  \"this warning.\", FutureWarning)\n"
     ]
    }
   ],
   "source": [
    "models = [\n",
    "    RandomForestClassifier(n_estimators=200, max_depth=3, random_state=0),\n",
    "    LinearSVC(),\n",
    "    MultinomialNB(),\n",
    "    LogisticRegression(random_state=0),\n",
    "]\n",
    "CV = 5\n",
    "cv_df = pd.DataFrame(index=range(CV * len(models)))\n",
    "entries = []\n",
    "for model in models:\n",
    "    model_name = model.__class__.__name__\n",
    "    accuracies = cross_val_score(model, features, labels, scoring='accuracy', cv=CV)\n",
    "    for fold_idx, accuracy in enumerate(accuracies):\n",
    "        entries.append((model_name, fold_idx, accuracy))\n",
    "cv_df = pd.DataFrame(entries, columns=['model_name', 'fold_idx', 'accuracy'])"
   ]
  },
  {
   "cell_type": "code",
   "execution_count": 83,
   "metadata": {},
   "outputs": [
    {
     "data": {
      "image/png": "[encoded data removed]",
      "text/plain": [
       "<Figure size 1152x720 with 1 Axes>"
      ]
     },
     "metadata": {
      "image/png": {
       "height": 590,
       "width": 958
      },
      "needs_background": "light"
     },
     "output_type": "display_data"
    }
   ],
   "source": [
    "plt.figure(figsize=(16,10))\n",
    "sns.boxplot(x='model_name', y='accuracy', data=cv_df)\n",
    "sns.stripplot(x='model_name', y='accuracy', data=cv_df, \n",
    "              size=8, jitter=True, edgecolor=\"gray\", linewidth=2)\n",
    "plt.show()"
   ]
  },
  {
   "cell_type": "code",
   "execution_count": 84,
   "metadata": {},
   "outputs": [
    {
     "data": {
      "text/plain": [
       "model_name\n",
       "LinearSVC                 0.385178\n",
       "LogisticRegression        0.433305\n",
       "MultinomialNB             0.413568\n",
       "RandomForestClassifier    0.360601\n",
       "Name: accuracy, dtype: float64"
      ]
     },
     "execution_count": 84,
     "metadata": {},
     "output_type": "execute_result"
    }
   ],
   "source": [
    "cv_df.groupby('model_name').accuracy.mean()"
   ]
  },
  {
   "cell_type": "code",
   "execution_count": null,
   "metadata": {},
   "outputs": [],
   "source": []
  },
  {
   "cell_type": "code",
   "execution_count": null,
   "metadata": {},
   "outputs": [],
   "source": []
  },
  {
   "cell_type": "code",
   "execution_count": null,
   "metadata": {},
   "outputs": [],
   "source": []
  },
  {
   "cell_type": "code",
   "execution_count": null,
   "metadata": {},
   "outputs": [],
   "source": []
  },
  {
   "cell_type": "code",
   "execution_count": null,
   "metadata": {},
   "outputs": [],
   "source": []
  },
  {
   "cell_type": "code",
   "execution_count": null,
   "metadata": {},
   "outputs": [],
   "source": []
  },
  {
   "cell_type": "code",
   "execution_count": null,
   "metadata": {},
   "outputs": [],
   "source": []
  }
 ],
 "metadata": {
  "kernelspec": {
   "display_name": "Python 3",
   "language": "python",
   "name": "python3"
  },
  "language_info": {
   "codemirror_mode": {
    "name": "ipython",
    "version": 3
   },
   "file_extension": ".py",
   "mimetype": "text/x-python",
   "name": "python",
   "nbconvert_exporter": "python",
   "pygments_lexer": "ipython3",
   "version": "3.6.8"
  }
 },
 "nbformat": 4,
 "nbformat_minor": 2
}
